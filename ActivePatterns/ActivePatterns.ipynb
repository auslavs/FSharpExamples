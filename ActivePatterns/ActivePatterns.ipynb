{
 "cells": [
  {
   "cell_type": "markdown",
   "metadata": {},
   "source": [
    "# Active Patterns examples\n",
    "\n",
    "## Reference material\n",
    "\n",
    "### Deep Dive into Active Patterns\n",
    "Paul Blasucci @pblasucci\n",
    "\n",
    "Video of talk\n",
    "https://www.youtube.com/watch?v=Q5KO-UDx5eA\n",
    "\n",
    "Slides and examples\n",
    "https://github.com/pblasucci/DeepDiveAP\n",
    "\n",
    "### FSharp for Fun and Profit\n",
    "\n",
    "https://fsharpforfunandprofit.com/posts/convenience-active-patterns/\n",
    "\n",
    "### .NET docs\n",
    "\n",
    "https://docs.microsoft.com/en-us/dotnet/fsharp/language-reference/active-patterns"
   ]
  },
  {
   "cell_type": "markdown",
   "metadata": {},
   "source": [
    "## Introduction"
   ]
  },
  {
   "cell_type": "markdown",
   "metadata": {},
   "source": [
    "### Active pattern of one choice."
   ]
  },
  {
   "cell_type": "code",
   "execution_count": null,
   "metadata": {
    "dotnet_interactive": {
     "language": "fsharp"
    }
   },
   "outputs": [
    {
     "name": "stderr",
     "output_type": "stream",
     "text": [
      "Stopped due to error\n"
     ]
    },
    {
     "ename": "Error",
     "evalue": "input.fsx (8,28)-(8,54) typecheck error The type 'int -> unit' does not match the type 'unit'",
     "output_type": "error",
     "traceback": [
      "input.fsx (8,28)-(8,54) typecheck error The type 'int -> unit' does not match the type 'unit'"
     ]
    }
   ],
   "source": [
    "// Active pattern of one choice.\n",
    "let (|ItemCount|) input = input |> List.length\n",
    "\n",
    "let applyDiscount orderlines =\n",
    "  match orderlines with\n",
    "  | ItemCount 4 -> printfn \"Apply 5% discount\"\n",
    "  | ItemCount 8 -> printfn \"Apply 10% discount\"\n",
    "  | ItemCount i -> printfn \"No discount for %i items\" i\n",
    "\n",
    "applyDiscount [1;2]\n",
    "applyDiscount [1;2;3;4]\n",
    "applyDiscount [1;2;3;4;5;6;7;8]\n"
   ]
  },
  {
   "cell_type": "markdown",
   "metadata": {},
   "source": [
    "### Active Patterns with multiple choices"
   ]
  },
  {
   "cell_type": "code",
   "execution_count": null,
   "metadata": {
    "dotnet_interactive": {
     "language": "fsharp"
    }
   },
   "outputs": [
    {
     "name": "stdout",
     "output_type": "stream",
     "text": [
      "7 is odd\r\n",
      "11 is odd\r\n",
      "32 is even\r\n"
     ]
    }
   ],
   "source": [
    "let (|Even|Odd|) input = if input % 2 = 0 then Even else Odd\n",
    "\n",
    "let TestNumber input =\n",
    "  match input with\n",
    "  | Even -> printfn \"%d is even\" input\n",
    "  | Odd -> printfn \"%d is odd\" input\n",
    "\n",
    "TestNumber 7\n",
    "TestNumber 11\n",
    "TestNumber 32"
   ]
  },
  {
   "cell_type": "markdown",
   "metadata": {},
   "source": [
    "### Partial Active Patterns\n",
    "\n",
    "Active patterns that do not always produce a value are called partial active patterns.\n",
    "\n",
    "* To define a partial active pattern, you use a wildcard character (_) at the end of the list of patterns.\n",
    "\n"
   ]
  },
  {
   "cell_type": "code",
   "execution_count": null,
   "metadata": {
    "dotnet_interactive": {
     "language": "fsharp"
    }
   },
   "outputs": [
    {
     "name": "stdout",
     "output_type": "stream",
     "text": [
      "Not Jeff\r\n"
     ]
    }
   ],
   "source": [
    "// Partial active pattern\n",
    "let (|Jeff|_|) (input:string) = if input.Equals(\"Jeff\") then Some () else None\n",
    "\n",
    "let isJeff name = \n",
    "  match name with\n",
    "  | Jeff -> printfn \"My name Jeff\"\n",
    "  | _ -> printfn \"Not Jeff\"\n",
    "\n",
    "isJeff \"Geoff\""
   ]
  },
  {
   "cell_type": "markdown",
   "metadata": {},
   "source": [
    "## Parsing of strings"
   ]
  },
  {
   "cell_type": "code",
   "execution_count": null,
   "metadata": {
    "dotnet_interactive": {
     "language": "fsharp"
    }
   },
   "outputs": [],
   "source": [
    "open System.Text.RegularExpressions\n",
    "\n",
    "let (|Int|_|) str =\n",
    "  match System.Int32.TryParse(str:string) with\n",
    "  | (true,int) -> Some(int)\n",
    "  | _ -> None\n",
    "\n",
    "let (|Bool|_|) str =\n",
    "  match System.Boolean.TryParse(str:string) with\n",
    "  | (true,bool) -> Some(bool)\n",
    "  | _ -> None\n",
    "\n",
    "let (|ParseRegex|_|) regex str =\n",
    "  let m = Regex(regex).Match(str)\n",
    "  if m.Success then Some ()\n",
    "  else None\n",
    "\n",
    "let (|ParseRegexGroup|_|) regex str =\n",
    "  let m = Regex(regex).Match(str)\n",
    "  if m.Success then Some (List.tail [ for x in m.Groups -> x.Value ])\n",
    "  else None"
   ]
  },
  {
   "cell_type": "markdown",
   "metadata": {},
   "source": [
    "### Int and bool Example\n",
    "https://fsharpforfunandprofit.com/posts/convenience-active-patterns/"
   ]
  },
  {
   "cell_type": "code",
   "execution_count": null,
   "metadata": {
    "dotnet_interactive": {
     "language": "fsharp"
    }
   },
   "outputs": [
    {
     "name": "stdout",
     "output_type": "stream",
     "text": [
      "The value is an int '12'\r\n",
      "The value is a bool 'true'\r\n",
      "The value 'abc' is something else\r\n"
     ]
    }
   ],
   "source": [
    "// create a function to call the patterns\n",
    "let testParse str =\n",
    "  match str with\n",
    "  | Int i -> printfn \"The value is an int '%i'\" i\n",
    "  | Bool b -> printfn \"The value is a bool '%b'\" b\n",
    "  | _ -> printfn \"The value '%s' is something else\" str\n",
    "\n",
    "// test\n",
    "testParse \"12\"\n",
    "testParse \"true\"\n",
    "testParse \"abc\""
   ]
  },
  {
   "cell_type": "code",
   "execution_count": null,
   "metadata": {
    "dotnet_interactive": {
     "language": "fsharp"
    }
   },
   "outputs": [
    {
     "data": {
      "text/html": [
       "<table><thead><tr><th>ResultValue</th><th>ErrorValue</th></tr></thead><tbody><tr><td><div class=\"dni-plaintext\">foo@bar.com</div></td><td><div class=\"dni-plaintext\">&lt;null&gt;</div></td></tr></tbody></table>"
      ]
     },
     "metadata": {},
     "output_type": "display_data"
    }
   ],
   "source": [
    "let (|IsValidEmail|_|) input =\n",
    "  match input with\n",
    "  | ParseRegex \".*?@(.*)\" -> Some ()\n",
    "  | _ -> None\n",
    "\n",
    "let requireEmail value =\n",
    "  match value with\n",
    "  | IsValidEmail -> Ok value\n",
    "  | _ -> Error \"Email is not in the correct format\"\n",
    "\n",
    "\n",
    "requireEmail \"foo@bar.com\""
   ]
  },
  {
   "cell_type": "code",
   "execution_count": null,
   "metadata": {
    "dotnet_interactive": {
     "language": "fsharp"
    }
   },
   "outputs": [
    {
     "name": "stdout",
     "output_type": "stream",
     "text": [
      "User:\tfoo\r\n",
      "Domain:\tbar\r\n",
      "TLD:\tcom\r\n"
     ]
    }
   ],
   "source": [
    "type EmailParts = {\n",
    "  Username: string\n",
    "  Domain: string\n",
    "  TopLevelDomain: string\n",
    "}\n",
    "\n",
    "let emailParts str =\n",
    "  let emailPattern = @\"([a-zA-Z0-9+._-]+)@([a-zA-Z0-9._-]+)\\.([a-zA-Z0-9_-]+)\"\n",
    "  match str with\n",
    "  | ParseRegexGroup emailPattern [u ; d; tld] -> \n",
    "      {Username = u; Domain = d; TopLevelDomain = tld} \n",
    "  | _ -> failwith \"not found\"\n",
    "\n",
    "let parts = emailParts \"foo@bar.com\"\n",
    "\n",
    "printfn $\"User:\\t{parts.Username}\"\n",
    "printfn $\"Domain:\\t{parts.Domain}\"\n",
    "printfn $\"TLD:\\t{parts.TopLevelDomain}\"\n"
   ]
  },
  {
   "cell_type": "markdown",
   "metadata": {},
   "source": [
    "## Changing shape of data\n",
    "Using active patterns on let-bindings"
   ]
  },
  {
   "cell_type": "code",
   "execution_count": null,
   "metadata": {
    "dotnet_interactive": {
     "language": "fsharp"
    }
   },
   "outputs": [
    {
     "name": "stdout",
     "output_type": "stream",
     "text": [
      "(255, 0, 0)\r\n",
      "(0, 1, 0.5)\r\n"
     ]
    }
   ],
   "source": [
    "let (|RGB|) (col : System.Drawing.Color) =\n",
    "  ( col.R, col.G, col.B )\n",
    "\n",
    "let (|HSB|) (col : System.Drawing.Color) =\n",
    "  ( col.GetHue(), col.GetSaturation(), col.GetBrightness() )\n",
    "\n",
    "let (RGB redRgb) = System.Drawing.Color.Red\n",
    "let (HSB redHsb) = System.Drawing.Color.Red\n",
    "\n",
    "printfn $\"{redRgb}\"\n",
    "printfn $\"{redHsb}\""
   ]
  },
  {
   "cell_type": "code",
   "execution_count": null,
   "metadata": {
    "dotnet_interactive": {
     "language": "fsharp"
    }
   },
   "outputs": [
    {
     "name": "stdout",
     "output_type": "stream",
     "text": [
      "Email:\n",
      "EXT01@company.com.au\r\n",
      "Address:\n",
      "{ addressLine1 = \"1 Wonder Street\"\n",
      "  city = \"Wonderland\"\n",
      "  state = \"NSW\"\n",
      "  postcode = \"2000\"\n",
      "  countryCode = \"AU\" }\r\n"
     ]
    }
   ],
   "source": [
    "type CustomerDetails = { \n",
    "  name : Name\n",
    "  title : string\n",
    "  email : string\n",
    "  mobilePhone : string\n",
    "  dateOfBirth : string\n",
    "  address : Address\n",
    "  } \n",
    "  \n",
    "  and Name = {\n",
    "    firstName : string\n",
    "    middleName : string option\n",
    "    lastName : string \n",
    "  }\n",
    "  \n",
    "  and Address = {\n",
    "    addressLine1 : string\n",
    "    city : string\n",
    "    state : string\n",
    "    postcode : string\n",
    "    countryCode : string\n",
    "  }\n",
    "\n",
    "let profile =\n",
    "  { name = { firstName = \"Jane\"; middleName = None; lastName = \"Citizen\" }\n",
    "    title = \"Ms\"\n",
    "    email = $\"EXT01@company.com.au\"\n",
    "    mobilePhone = \"+61412345678\"\n",
    "    dateOfBirth = \"1990-12-20\"\n",
    "    address = {  \n",
    "      addressLine1 = \"1 Wonder Street\"\n",
    "      city = \"Wonderland\"\n",
    "      state = \"NSW\"\n",
    "      postcode = \"2000\"\n",
    "      countryCode = \"AU\" } }\n",
    "\n",
    "let (|EmailWithAddress|) (p:CustomerDetails) = (p.email, p.address)\n",
    "\n",
    "let (EmailWithAddress (email, address)) = profile\n",
    "\n",
    "printfn $\"Email:\\n{email}\"\n",
    "printfn $\"Address:\\n{address}\""
   ]
  },
  {
   "cell_type": "markdown",
   "metadata": {},
   "source": [
    "## Taking pattern matching further"
   ]
  },
  {
   "cell_type": "code",
   "execution_count": null,
   "metadata": {
    "dotnet_interactive": {
     "language": "fsharp"
    }
   },
   "outputs": [
    {
     "data": {
      "text/html": [
       "<table><thead><tr><th>ResultValue</th><th>ErrorValue</th></tr></thead><tbody><tr><td><div class=\"dni-plaintext\">0001-01-01 00:00:00Z</div></td><td><div class=\"dni-plaintext\">Date invalid</div></td></tr></tbody></table>"
      ]
     },
     "metadata": {},
     "output_type": "display_data"
    }
   ],
   "source": [
    "let (|Between|_|) (x: int) (y: int) (input: int) =\n",
    "  if input >= x && input <= y\n",
    "  then Some()\n",
    "  else None\n",
    "\n",
    "let isLeapYear (year: int) = DateTime.IsLeapYear(year)\n",
    "\n",
    "let parseDate year month day =\n",
    "  if year <= 0 then\n",
    "    Error \"Year cannot be 0 or less\"\n",
    "  else\n",
    "    match month, day with\n",
    "    | 2, Between 1 29 when isLeapYear year -> Ok (DateTime(year, month, day))\n",
    "    | 2, Between 1 28 when not (isLeapYear year) -> Ok (DateTime(year, month, day))\n",
    "    | (1 | 3 | 5 | 7 | 8 | 10 | 12), Between 1 31 -> Ok (DateTime(year, month, day))\n",
    "    | (4 | 6 | 9 | 11), Between 1 30 -> Ok (DateTime(year, month, day))\n",
    "    | _ -> Error \"Date invalid\"\n",
    "\n",
    "parseDate 2021 02 30"
   ]
  },
  {
   "cell_type": "code",
   "execution_count": null,
   "metadata": {
    "dotnet_interactive": {
     "language": "fsharp"
    }
   },
   "outputs": [
    {
     "data": {
      "text/html": [
       "<table><thead><tr><th>ResultValue</th><th>ErrorValue</th></tr></thead><tbody><tr><td><div class=\"dni-plaintext\">0001-01-01 00:00:00Z</div></td><td><div class=\"dni-plaintext\">Date invalid</div></td></tr></tbody></table>"
      ]
     },
     "metadata": {},
     "output_type": "display_data"
    }
   ],
   "source": [
    "let (|February|_|) (month: int) =\n",
    "  if month = 2 then Some () else None\n",
    "\n",
    "let (|Thirtydays|_|) (month: int) =\n",
    "  match month with\n",
    "  | (4 | 6 | 9 | 11) -> Some ()\n",
    "  | _ -> None\n",
    "\n",
    "let (|ThirtyOnedays|_|) (month: int) =\n",
    "  match month with\n",
    "  | (1 | 3 | 5 | 7 | 8 | 10 | 12)-> Some ()\n",
    "  | _ -> None\n",
    "\n",
    "let parseDate year month day =\n",
    "  if year <= 0 then\n",
    "    Error \"Year cannot be 0 or less\"\n",
    "  else\n",
    "    match month, day with\n",
    "    | February, Between 1 29 when isLeapYear year -> Ok (DateTime(year, month, day))\n",
    "    | February, Between 1 28 when not (isLeapYear year) -> Ok (DateTime(year, month, day))\n",
    "    | ThirtyOnedays, Between 1 31 -> Ok (DateTime(year, month, day))\n",
    "    | Thirtydays, Between 1 30 -> Ok (DateTime(year, month, day))\n",
    "    | _ -> Error \"Date invalid\"\n",
    "\n",
    "parseDate 2021 02 30"
   ]
  }
 ],
 "metadata": {
  "kernelspec": {
   "display_name": ".NET (F#)",
   "language": "F#",
   "name": ".net-fsharp"
  },
  "language_info": {
   "name": "F#"
  }
 },
 "nbformat": 4,
 "nbformat_minor": 2
}
